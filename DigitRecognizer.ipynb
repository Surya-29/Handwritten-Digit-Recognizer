{
 "cells": [
  {
   "cell_type": "code",
   "execution_count": 65,
   "id": "0c13d7bf",
   "metadata": {},
   "outputs": [],
   "source": [
    "import torch.nn as nn\n",
    "import torch.nn.functional as F\n",
    "import torch.optim as optim\n",
    "\n",
    "import pandas as pd\n",
    "from sklearn.preprocessing import StandardScaler\n",
    "from torch.utils.data import Dataset\n",
    "import torch\n",
    "import torchvision"
   ]
  },
  {
   "cell_type": "code",
   "execution_count": 71,
   "id": "7109bf1c",
   "metadata": {},
   "outputs": [],
   "source": [
    "n_epochs = 3\n",
    "learning_rate = 0.01\n",
    "momentum = 0.5\n",
    "torch.backends.cudnn.enabled = True"
   ]
  },
  {
   "cell_type": "code",
   "execution_count": 72,
   "id": "90ee9b09",
   "metadata": {},
   "outputs": [],
   "source": [
    "device = 'cuda' if torch.cuda.is_available() else 'cpu'"
   ]
  },
  {
   "cell_type": "code",
   "execution_count": 73,
   "id": "c8d5a442",
   "metadata": {},
   "outputs": [],
   "source": [
    "class ExtractDataset(Dataset):\n",
    "    def __init__(self,filename) -> None:\n",
    "        file_data = pd.read_csv(filename)\n",
    "        \n",
    "        x = file_data.iloc[:,1:].values\n",
    "        y = file_data.iloc[:,0].values\n",
    "\n",
    "        \n",
    "        x_train = x/255.0\n",
    "        y_train = y\n",
    "\n",
    "        self.X = torch.tensor(x_train , dtype=torch.float32)\n",
    "        self.y = torch.tensor(y_train)\n",
    "\n",
    "    def __len__(self):\n",
    "        return len(self.y)\n",
    "\n",
    "    def __getitem__(self, index) :\n",
    "        return self.X[index],self.y[index]\n",
    "\n"
   ]
  },
  {
   "cell_type": "code",
   "execution_count": 74,
   "id": "139cbeb7",
   "metadata": {},
   "outputs": [],
   "source": [
    "ex = ExtractDataset('data/train.csv')"
   ]
  },
  {
   "cell_type": "code",
   "execution_count": 75,
   "id": "a3c417b4",
   "metadata": {},
   "outputs": [],
   "source": [
    "train_loader = torch.utils.data.DataLoader(ex,batch_size = 64,shuffle=True)"
   ]
  },
  {
   "cell_type": "code",
   "execution_count": 76,
   "id": "a6bb45ac",
   "metadata": {},
   "outputs": [],
   "source": [
    "train_loader = torch.utils.data.DataLoader(\n",
    "  torchvision.datasets.MNIST('/files/', train=True, download=True,\n",
    "                             transform=torchvision.transforms.Compose([\n",
    "                               torchvision.transforms.ToTensor(),\n",
    "                               torchvision.transforms.Normalize(\n",
    "                                 (0.1307,), (0.3081,))\n",
    "                             ])),\n",
    "  batch_size=64, shuffle=True)"
   ]
  },
  {
   "cell_type": "code",
   "execution_count": 42,
   "id": "104cf2d5",
   "metadata": {},
   "outputs": [
    {
     "name": "stdout",
     "output_type": "stream",
     "text": [
      "batch_idx, (example_data, example_targets) = next(examples)\n",
      "torch.Size([64, 1, 28, 28])\n"
     ]
    }
   ],
   "source": [
    "examples = enumerate(train_loader)\n",
    "print(\"batch_idx, (example_data, example_targets) = next(examples)\")\n",
    "print(next(examples)[1][0].shape)\n"
   ]
  },
  {
   "cell_type": "code",
   "execution_count": 143,
   "id": "6cededbf",
   "metadata": {},
   "outputs": [
    {
     "data": {
      "text/plain": [
       "(28,\n",
       " [tensor([[[[-0.4242, -0.4242, -0.4242,  ..., -0.4242, -0.4242, -0.4242],\n",
       "            [-0.4242, -0.4242, -0.4242,  ..., -0.4242, -0.4242, -0.4242],\n",
       "            [-0.4242, -0.4242, -0.4242,  ..., -0.4242, -0.4242, -0.4242],\n",
       "            ...,\n",
       "            [-0.4242, -0.4242, -0.4242,  ..., -0.4242, -0.4242, -0.4242],\n",
       "            [-0.4242, -0.4242, -0.4242,  ..., -0.4242, -0.4242, -0.4242],\n",
       "            [-0.4242, -0.4242, -0.4242,  ..., -0.4242, -0.4242, -0.4242]]],\n",
       "  \n",
       "  \n",
       "          [[[-0.4242, -0.4242, -0.4242,  ..., -0.4242, -0.4242, -0.4242],\n",
       "            [-0.4242, -0.4242, -0.4242,  ..., -0.4242, -0.4242, -0.4242],\n",
       "            [-0.4242, -0.4242, -0.4242,  ..., -0.4242, -0.4242, -0.4242],\n",
       "            ...,\n",
       "            [-0.4242, -0.4242, -0.4242,  ..., -0.4242, -0.4242, -0.4242],\n",
       "            [-0.4242, -0.4242, -0.4242,  ..., -0.4242, -0.4242, -0.4242],\n",
       "            [-0.4242, -0.4242, -0.4242,  ..., -0.4242, -0.4242, -0.4242]]],\n",
       "  \n",
       "  \n",
       "          [[[-0.4242, -0.4242, -0.4242,  ..., -0.4242, -0.4242, -0.4242],\n",
       "            [-0.4242, -0.4242, -0.4242,  ..., -0.4242, -0.4242, -0.4242],\n",
       "            [-0.4242, -0.4242, -0.4242,  ..., -0.4242, -0.4242, -0.4242],\n",
       "            ...,\n",
       "            [-0.4242, -0.4242, -0.4242,  ..., -0.4242, -0.4242, -0.4242],\n",
       "            [-0.4242, -0.4242, -0.4242,  ..., -0.4242, -0.4242, -0.4242],\n",
       "            [-0.4242, -0.4242, -0.4242,  ..., -0.4242, -0.4242, -0.4242]]],\n",
       "  \n",
       "  \n",
       "          ...,\n",
       "  \n",
       "  \n",
       "          [[[-0.4242, -0.4242, -0.4242,  ..., -0.4242, -0.4242, -0.4242],\n",
       "            [-0.4242, -0.4242, -0.4242,  ..., -0.4242, -0.4242, -0.4242],\n",
       "            [-0.4242, -0.4242, -0.4242,  ..., -0.4242, -0.4242, -0.4242],\n",
       "            ...,\n",
       "            [-0.4242, -0.4242, -0.4242,  ..., -0.4242, -0.4242, -0.4242],\n",
       "            [-0.4242, -0.4242, -0.4242,  ..., -0.4242, -0.4242, -0.4242],\n",
       "            [-0.4242, -0.4242, -0.4242,  ..., -0.4242, -0.4242, -0.4242]]],\n",
       "  \n",
       "  \n",
       "          [[[-0.4242, -0.4242, -0.4242,  ..., -0.4242, -0.4242, -0.4242],\n",
       "            [-0.4242, -0.4242, -0.4242,  ..., -0.4242, -0.4242, -0.4242],\n",
       "            [-0.4242, -0.4242, -0.4242,  ..., -0.4242, -0.4242, -0.4242],\n",
       "            ...,\n",
       "            [-0.4242, -0.4242, -0.4242,  ..., -0.4242, -0.4242, -0.4242],\n",
       "            [-0.4242, -0.4242, -0.4242,  ..., -0.4242, -0.4242, -0.4242],\n",
       "            [-0.4242, -0.4242, -0.4242,  ..., -0.4242, -0.4242, -0.4242]]],\n",
       "  \n",
       "  \n",
       "          [[[-0.4242, -0.4242, -0.4242,  ..., -0.4242, -0.4242, -0.4242],\n",
       "            [-0.4242, -0.4242, -0.4242,  ..., -0.4242, -0.4242, -0.4242],\n",
       "            [-0.4242, -0.4242, -0.4242,  ..., -0.4242, -0.4242, -0.4242],\n",
       "            ...,\n",
       "            [-0.4242, -0.4242, -0.4242,  ..., -0.4242, -0.4242, -0.4242],\n",
       "            [-0.4242, -0.4242, -0.4242,  ..., -0.4242, -0.4242, -0.4242],\n",
       "            [-0.4242, -0.4242, -0.4242,  ..., -0.4242, -0.4242, -0.4242]]]]),\n",
       "  tensor([7, 1, 8, 4, 8, 8, 4, 8, 0, 9, 9, 3, 4, 3, 6, 2, 6, 4, 6, 1, 5, 3, 2, 4,\n",
       "          5, 0, 5, 9, 7, 7, 2, 3, 6, 9, 5, 7, 5, 1, 3, 9, 7, 6, 2, 9, 4, 8, 6, 8,\n",
       "          6, 1, 5, 0, 1, 1, 8, 1, 8, 3, 7, 2, 6, 6, 6, 5])])"
      ]
     },
     "execution_count": 143,
     "metadata": {},
     "output_type": "execute_result"
    }
   ],
   "source": [
    "next(examples)"
   ]
  },
  {
   "cell_type": "code",
   "execution_count": 77,
   "id": "8875350d",
   "metadata": {},
   "outputs": [
    {
     "data": {
      "image/png": "[encoded data removed]",
      "text/plain": [
       "<Figure size 432x288 with 6 Axes>"
      ]
     },
     "metadata": {},
     "output_type": "display_data"
    }
   ],
   "source": [
    "import matplotlib.pyplot as plt\n",
    "\n",
    "fig = plt.figure()\n",
    "\n",
    "for i in range(6): \n",
    "    plt.subplot(2,3,i+1)\n",
    "    plt.tight_layout()\n",
    "    plt.imshow(next(examples)[1][0][i].reshape(28,28),cmap=\"gray\")\n",
    "    plt.title(f\"Label {next(examples)[1][1][i]}\")\n",
    "    plt.xticks([])\n",
    "    plt.yticks([])\n"
   ]
  },
  {
   "cell_type": "code",
   "execution_count": 78,
   "id": "01f4ddc0",
   "metadata": {},
   "outputs": [],
   "source": [
    "class NeuralNet(nn.Module):\n",
    "    def __init__(self) -> None:\n",
    "        super(NeuralNet,self).__init__()\n",
    "\n",
    "        self.conv = nn.Conv2d(1,28,kernel_size=3) #[28,1,3,3] -[out_ch,in_ch,k_h,k_w]\n",
    "        self.pool = nn.MaxPool2d(2)\n",
    "\n",
    "        self.hidden = nn.Linear(4732,128)\n",
    "        self.relu = nn.ReLU()\n",
    "        self.output = nn.Linear(128,10)\n",
    "\n",
    "    def forward(self,x): # [64, 1, 28, 28] - [batchsize,n_channel,height,weight]\n",
    "        \n",
    "        x = self.relu(self.conv(x)) # [64,28,26,26]\n",
    "        x = self.pool(x) # [64,28,13,13]\n",
    "        x = x.view(x.size(0),-1) # [64,28x13x13]\n",
    "        x = self.relu(self.hidden(x))\n",
    "        # x = nn.Dropout(0.2)(x)\n",
    "        x = F.dropout(x, training=self.training)\n",
    "        x = self.relu(self.output(x))\n",
    "\n",
    "        return x\n"
   ]
  },
  {
   "cell_type": "code",
   "execution_count": 66,
   "id": "a8aaf141",
   "metadata": {},
   "outputs": [],
   "source": [
    "class Net(nn.Module):\n",
    "    def __init__(self):\n",
    "        super(Net, self).__init__()\n",
    "        self.conv1 = nn.Conv2d(1, 10, kernel_size=5)\n",
    "        self.conv2 = nn.Conv2d(10, 20, kernel_size=5)\n",
    "        self.conv2_drop = nn.Dropout2d()\n",
    "        self.fc1 = nn.Linear(320, 50)\n",
    "        self.fc2 = nn.Linear(50, 10)\n",
    "\n",
    "    def forward(self, x):\n",
    "        x = F.relu(F.max_pool2d(self.conv1(x), 2))\n",
    "        x = F.relu(F.max_pool2d(self.conv2_drop(self.conv2(x)), 2))\n",
    "        x = x.view(-1, 320)\n",
    "        x = F.relu(self.fc1(x))\n",
    "        x = F.dropout(x, training=self.training)\n",
    "        x = self.fc2(x)\n",
    "        return F.log_softmax(x)"
   ]
  },
  {
   "cell_type": "code",
   "execution_count": 87,
   "id": "93a1778a",
   "metadata": {},
   "outputs": [],
   "source": [
    "model = Net()\n",
    "# model.to(torch.device('cuda'))\n",
    "optimizer = optim.SGD(model.parameters(), lr=learning_rate,\n",
    "                      momentum=momentum)"
   ]
  },
  {
   "cell_type": "code",
   "execution_count": 88,
   "id": "ee635728",
   "metadata": {},
   "outputs": [],
   "source": [
    "train_losses = []\n",
    "train_counter = []"
   ]
  },
  {
   "cell_type": "code",
   "execution_count": 89,
   "id": "1423706b",
   "metadata": {},
   "outputs": [],
   "source": [
    "def train(epoch):\n",
    "    model.train()\n",
    "    for batch_idx, (data, target) in enumerate(train_loader):\n",
    "      optimizer.zero_grad()\n",
    "      output = model(data)\n",
    "      loss = F.nll_loss(output, target)\n",
    "      loss.backward()\n",
    "      optimizer.step()\n",
    "      if batch_idx % 10 == 0:\n",
    "        print('Train Epoch: {} [{}/{} ({:.0f}%)]\\tLoss: {:.6f}'.format(\n",
    "          epoch, batch_idx * len(data), len(train_loader.dataset),\n",
    "          100. * batch_idx / len(train_loader), loss.item()))\n",
    "        train_losses.append(loss.item())\n",
    "        train_counter.append(\n",
    "          (batch_idx*64) + ((epoch-1)*len(train_loader.dataset)))"
   ]
  },
  {
   "cell_type": "code",
   "execution_count": 90,
   "id": "ef788bb2",
   "metadata": {},
   "outputs": [
    {
     "name": "stderr",
     "output_type": "stream",
     "text": [
      "C:\\Users\\surya\\AppData\\Local\\Temp\\ipykernel_21596\\161431047.py:17: UserWarning: Implicit dimension choice for log_softmax has been deprecated. Change the call to include dim=X as an argument.\n",
      "  return F.log_softmax(x)\n"
     ]
    },
    {
     "name": "stdout",
     "output_type": "stream",
     "text": [
      "Train Epoch: 1 [0/60000 (0%)]\tLoss: 2.341116\n",
      "Train Epoch: 1 [640/60000 (1%)]\tLoss: 2.348251\n",
      "Train Epoch: 1 [1280/60000 (2%)]\tLoss: 2.303144\n",
      "Train Epoch: 1 [1920/60000 (3%)]\tLoss: 2.250581\n",
      "Train Epoch: 1 [2560/60000 (4%)]\tLoss: 2.272722\n",
      "Train Epoch: 1 [3200/60000 (5%)]\tLoss: 2.195330\n",
      "Train Epoch: 1 [3840/60000 (6%)]\tLoss: 2.192094\n",
      "Train Epoch: 1 [4480/60000 (7%)]\tLoss: 2.096848\n",
      "Train Epoch: 1 [5120/60000 (9%)]\tLoss: 2.126948\n",
      "Train Epoch: 1 [5760/60000 (10%)]\tLoss: 2.012089\n",
      "Train Epoch: 1 [6400/60000 (11%)]\tLoss: 1.930321\n",
      "Train Epoch: 1 [7040/60000 (12%)]\tLoss: 1.793813\n",
      "Train Epoch: 1 [7680/60000 (13%)]\tLoss: 1.571345\n",
      "Train Epoch: 1 [8320/60000 (14%)]\tLoss: 1.536589\n",
      "Train Epoch: 1 [8960/60000 (15%)]\tLoss: 1.564690\n",
      "Train Epoch: 1 [9600/60000 (16%)]\tLoss: 1.601977\n",
      "Train Epoch: 1 [10240/60000 (17%)]\tLoss: 1.264865\n",
      "Train Epoch: 1 [10880/60000 (18%)]\tLoss: 1.083431\n",
      "Train Epoch: 1 [11520/60000 (19%)]\tLoss: 1.345938\n",
      "Train Epoch: 1 [12160/60000 (20%)]\tLoss: 1.058543\n",
      "Train Epoch: 1 [12800/60000 (21%)]\tLoss: 0.874334\n",
      "Train Epoch: 1 [13440/60000 (22%)]\tLoss: 1.243352\n",
      "Train Epoch: 1 [14080/60000 (23%)]\tLoss: 1.147539\n",
      "Train Epoch: 1 [14720/60000 (25%)]\tLoss: 1.094471\n",
      "Train Epoch: 1 [15360/60000 (26%)]\tLoss: 0.796144\n",
      "Train Epoch: 1 [16000/60000 (27%)]\tLoss: 1.080469\n",
      "Train Epoch: 1 [16640/60000 (28%)]\tLoss: 0.882220\n",
      "Train Epoch: 1 [17280/60000 (29%)]\tLoss: 0.688956\n",
      "Train Epoch: 1 [17920/60000 (30%)]\tLoss: 1.233454\n",
      "Train Epoch: 1 [18560/60000 (31%)]\tLoss: 0.583892\n",
      "Train Epoch: 1 [19200/60000 (32%)]\tLoss: 0.821494\n",
      "Train Epoch: 1 [19840/60000 (33%)]\tLoss: 0.710231\n",
      "Train Epoch: 1 [20480/60000 (34%)]\tLoss: 0.932395\n",
      "Train Epoch: 1 [21120/60000 (35%)]\tLoss: 0.739712\n",
      "Train Epoch: 1 [21760/60000 (36%)]\tLoss: 0.716665\n",
      "Train Epoch: 1 [22400/60000 (37%)]\tLoss: 0.872889\n",
      "Train Epoch: 1 [23040/60000 (38%)]\tLoss: 0.711881\n",
      "Train Epoch: 1 [23680/60000 (39%)]\tLoss: 0.786998\n",
      "Train Epoch: 1 [24320/60000 (41%)]\tLoss: 0.607122\n",
      "Train Epoch: 1 [24960/60000 (42%)]\tLoss: 0.690021\n",
      "Train Epoch: 1 [25600/60000 (43%)]\tLoss: 0.958356\n",
      "Train Epoch: 1 [26240/60000 (44%)]\tLoss: 0.595181\n",
      "Train Epoch: 1 [26880/60000 (45%)]\tLoss: 0.529356\n",
      "Train Epoch: 1 [27520/60000 (46%)]\tLoss: 0.543693\n",
      "Train Epoch: 1 [28160/60000 (47%)]\tLoss: 0.757712\n",
      "Train Epoch: 1 [28800/60000 (48%)]\tLoss: 0.636661\n",
      "Train Epoch: 1 [29440/60000 (49%)]\tLoss: 0.639129\n",
      "Train Epoch: 1 [30080/60000 (50%)]\tLoss: 0.671669\n",
      "Train Epoch: 1 [30720/60000 (51%)]\tLoss: 0.846887\n",
      "Train Epoch: 1 [31360/60000 (52%)]\tLoss: 0.414354\n",
      "Train Epoch: 1 [32000/60000 (53%)]\tLoss: 0.774230\n",
      "Train Epoch: 1 [32640/60000 (54%)]\tLoss: 0.695756\n",
      "Train Epoch: 1 [33280/60000 (55%)]\tLoss: 0.733130\n",
      "Train Epoch: 1 [33920/60000 (57%)]\tLoss: 0.523018\n",
      "Train Epoch: 1 [34560/60000 (58%)]\tLoss: 0.603296\n",
      "Train Epoch: 1 [35200/60000 (59%)]\tLoss: 0.583290\n",
      "Train Epoch: 1 [35840/60000 (60%)]\tLoss: 0.525298\n",
      "Train Epoch: 1 [36480/60000 (61%)]\tLoss: 0.461083\n",
      "Train Epoch: 1 [37120/60000 (62%)]\tLoss: 0.596019\n",
      "Train Epoch: 1 [37760/60000 (63%)]\tLoss: 0.555376\n",
      "Train Epoch: 1 [38400/60000 (64%)]\tLoss: 0.525098\n",
      "Train Epoch: 1 [39040/60000 (65%)]\tLoss: 0.543435\n",
      "Train Epoch: 1 [39680/60000 (66%)]\tLoss: 0.440464\n",
      "Train Epoch: 1 [40320/60000 (67%)]\tLoss: 0.489431\n",
      "Train Epoch: 1 [40960/60000 (68%)]\tLoss: 0.373607\n",
      "Train Epoch: 1 [41600/60000 (69%)]\tLoss: 0.476555\n",
      "Train Epoch: 1 [42240/60000 (70%)]\tLoss: 0.548761\n",
      "Train Epoch: 1 [42880/60000 (71%)]\tLoss: 0.475111\n",
      "Train Epoch: 1 [43520/60000 (72%)]\tLoss: 0.581015\n",
      "Train Epoch: 1 [44160/60000 (74%)]\tLoss: 0.583745\n",
      "Train Epoch: 1 [44800/60000 (75%)]\tLoss: 0.533891\n",
      "Train Epoch: 1 [45440/60000 (76%)]\tLoss: 0.534066\n",
      "Train Epoch: 1 [46080/60000 (77%)]\tLoss: 0.416752\n",
      "Train Epoch: 1 [46720/60000 (78%)]\tLoss: 0.408453\n",
      "Train Epoch: 1 [47360/60000 (79%)]\tLoss: 0.570166\n",
      "Train Epoch: 1 [48000/60000 (80%)]\tLoss: 0.528017\n",
      "Train Epoch: 1 [48640/60000 (81%)]\tLoss: 0.408884\n",
      "Train Epoch: 1 [49280/60000 (82%)]\tLoss: 0.578068\n",
      "Train Epoch: 1 [49920/60000 (83%)]\tLoss: 0.729519\n",
      "Train Epoch: 1 [50560/60000 (84%)]\tLoss: 0.483986\n",
      "Train Epoch: 1 [51200/60000 (85%)]\tLoss: 0.336951\n",
      "Train Epoch: 1 [51840/60000 (86%)]\tLoss: 0.312516\n",
      "Train Epoch: 1 [52480/60000 (87%)]\tLoss: 0.458582\n",
      "Train Epoch: 1 [53120/60000 (88%)]\tLoss: 0.633601\n",
      "Train Epoch: 1 [53760/60000 (90%)]\tLoss: 0.626273\n",
      "Train Epoch: 1 [54400/60000 (91%)]\tLoss: 0.407386\n",
      "Train Epoch: 1 [55040/60000 (92%)]\tLoss: 0.541836\n",
      "Train Epoch: 1 [55680/60000 (93%)]\tLoss: 0.713673\n",
      "Train Epoch: 1 [56320/60000 (94%)]\tLoss: 0.429337\n",
      "Train Epoch: 1 [56960/60000 (95%)]\tLoss: 0.552145\n",
      "Train Epoch: 1 [57600/60000 (96%)]\tLoss: 0.570702\n",
      "Train Epoch: 1 [58240/60000 (97%)]\tLoss: 0.751582\n",
      "Train Epoch: 1 [58880/60000 (98%)]\tLoss: 0.473147\n",
      "Train Epoch: 1 [59520/60000 (99%)]\tLoss: 0.426352\n",
      "Train Epoch: 2 [0/60000 (0%)]\tLoss: 0.443824\n",
      "Train Epoch: 2 [640/60000 (1%)]\tLoss: 0.452022\n",
      "Train Epoch: 2 [1280/60000 (2%)]\tLoss: 0.462263\n",
      "Train Epoch: 2 [1920/60000 (3%)]\tLoss: 0.444420\n",
      "Train Epoch: 2 [2560/60000 (4%)]\tLoss: 0.480264\n",
      "Train Epoch: 2 [3200/60000 (5%)]\tLoss: 0.546010\n",
      "Train Epoch: 2 [3840/60000 (6%)]\tLoss: 0.397789\n",
      "Train Epoch: 2 [4480/60000 (7%)]\tLoss: 0.493956\n",
      "Train Epoch: 2 [5120/60000 (9%)]\tLoss: 0.292930\n",
      "Train Epoch: 2 [5760/60000 (10%)]\tLoss: 0.332521\n",
      "Train Epoch: 2 [6400/60000 (11%)]\tLoss: 0.452216\n",
      "Train Epoch: 2 [7040/60000 (12%)]\tLoss: 0.368622\n",
      "Train Epoch: 2 [7680/60000 (13%)]\tLoss: 0.418841\n",
      "Train Epoch: 2 [8320/60000 (14%)]\tLoss: 0.386241\n",
      "Train Epoch: 2 [8960/60000 (15%)]\tLoss: 0.595670\n",
      "Train Epoch: 2 [9600/60000 (16%)]\tLoss: 0.425574\n",
      "Train Epoch: 2 [10240/60000 (17%)]\tLoss: 0.449960\n",
      "Train Epoch: 2 [10880/60000 (18%)]\tLoss: 0.339960\n",
      "Train Epoch: 2 [11520/60000 (19%)]\tLoss: 0.511506\n",
      "Train Epoch: 2 [12160/60000 (20%)]\tLoss: 0.406707\n",
      "Train Epoch: 2 [12800/60000 (21%)]\tLoss: 0.410649\n",
      "Train Epoch: 2 [13440/60000 (22%)]\tLoss: 0.368535\n",
      "Train Epoch: 2 [14080/60000 (23%)]\tLoss: 0.302222\n",
      "Train Epoch: 2 [14720/60000 (25%)]\tLoss: 0.387113\n",
      "Train Epoch: 2 [15360/60000 (26%)]\tLoss: 0.284171\n",
      "Train Epoch: 2 [16000/60000 (27%)]\tLoss: 0.204214\n",
      "Train Epoch: 2 [16640/60000 (28%)]\tLoss: 0.557744\n",
      "Train Epoch: 2 [17280/60000 (29%)]\tLoss: 0.413652\n",
      "Train Epoch: 2 [17920/60000 (30%)]\tLoss: 0.339967\n",
      "Train Epoch: 2 [18560/60000 (31%)]\tLoss: 0.266500\n",
      "Train Epoch: 2 [19200/60000 (32%)]\tLoss: 0.334800\n",
      "Train Epoch: 2 [19840/60000 (33%)]\tLoss: 0.339989\n",
      "Train Epoch: 2 [20480/60000 (34%)]\tLoss: 0.364484\n",
      "Train Epoch: 2 [21120/60000 (35%)]\tLoss: 0.484340\n",
      "Train Epoch: 2 [21760/60000 (36%)]\tLoss: 0.350111\n",
      "Train Epoch: 2 [22400/60000 (37%)]\tLoss: 0.368603\n",
      "Train Epoch: 2 [23040/60000 (38%)]\tLoss: 0.237673\n",
      "Train Epoch: 2 [23680/60000 (39%)]\tLoss: 0.308935\n",
      "Train Epoch: 2 [24320/60000 (41%)]\tLoss: 0.405031\n",
      "Train Epoch: 2 [24960/60000 (42%)]\tLoss: 0.280032\n",
      "Train Epoch: 2 [25600/60000 (43%)]\tLoss: 0.435293\n",
      "Train Epoch: 2 [26240/60000 (44%)]\tLoss: 0.266865\n",
      "Train Epoch: 2 [26880/60000 (45%)]\tLoss: 0.501343\n",
      "Train Epoch: 2 [27520/60000 (46%)]\tLoss: 0.465616\n",
      "Train Epoch: 2 [28160/60000 (47%)]\tLoss: 0.469875\n",
      "Train Epoch: 2 [28800/60000 (48%)]\tLoss: 0.219397\n",
      "Train Epoch: 2 [29440/60000 (49%)]\tLoss: 0.512833\n",
      "Train Epoch: 2 [30080/60000 (50%)]\tLoss: 0.194308\n",
      "Train Epoch: 2 [30720/60000 (51%)]\tLoss: 0.357366\n",
      "Train Epoch: 2 [31360/60000 (52%)]\tLoss: 0.396772\n",
      "Train Epoch: 2 [32000/60000 (53%)]\tLoss: 0.485621\n",
      "Train Epoch: 2 [32640/60000 (54%)]\tLoss: 0.277082\n",
      "Train Epoch: 2 [33280/60000 (55%)]\tLoss: 0.169168\n",
      "Train Epoch: 2 [33920/60000 (57%)]\tLoss: 0.319859\n",
      "Train Epoch: 2 [34560/60000 (58%)]\tLoss: 0.575635\n",
      "Train Epoch: 2 [35200/60000 (59%)]\tLoss: 0.348924\n",
      "Train Epoch: 2 [35840/60000 (60%)]\tLoss: 0.351380\n",
      "Train Epoch: 2 [36480/60000 (61%)]\tLoss: 0.352532\n",
      "Train Epoch: 2 [37120/60000 (62%)]\tLoss: 0.367434\n",
      "Train Epoch: 2 [37760/60000 (63%)]\tLoss: 0.631807\n",
      "Train Epoch: 2 [38400/60000 (64%)]\tLoss: 0.318067\n",
      "Train Epoch: 2 [39040/60000 (65%)]\tLoss: 0.336467\n",
      "Train Epoch: 2 [39680/60000 (66%)]\tLoss: 0.230148\n",
      "Train Epoch: 2 [40320/60000 (67%)]\tLoss: 0.421958\n",
      "Train Epoch: 2 [40960/60000 (68%)]\tLoss: 0.388482\n",
      "Train Epoch: 2 [41600/60000 (69%)]\tLoss: 0.405664\n",
      "Train Epoch: 2 [42240/60000 (70%)]\tLoss: 0.383081\n",
      "Train Epoch: 2 [42880/60000 (71%)]\tLoss: 0.382170\n",
      "Train Epoch: 2 [43520/60000 (72%)]\tLoss: 0.294502\n",
      "Train Epoch: 2 [44160/60000 (74%)]\tLoss: 0.534776\n",
      "Train Epoch: 2 [44800/60000 (75%)]\tLoss: 0.204644\n",
      "Train Epoch: 2 [45440/60000 (76%)]\tLoss: 0.412743\n",
      "Train Epoch: 2 [46080/60000 (77%)]\tLoss: 0.259841\n",
      "Train Epoch: 2 [46720/60000 (78%)]\tLoss: 0.205459\n",
      "Train Epoch: 2 [47360/60000 (79%)]\tLoss: 0.224061\n",
      "Train Epoch: 2 [48000/60000 (80%)]\tLoss: 0.118590\n",
      "Train Epoch: 2 [48640/60000 (81%)]\tLoss: 0.159398\n",
      "Train Epoch: 2 [49280/60000 (82%)]\tLoss: 0.493157\n",
      "Train Epoch: 2 [49920/60000 (83%)]\tLoss: 0.514033\n",
      "Train Epoch: 2 [50560/60000 (84%)]\tLoss: 0.396452\n",
      "Train Epoch: 2 [51200/60000 (85%)]\tLoss: 0.375661\n",
      "Train Epoch: 2 [51840/60000 (86%)]\tLoss: 0.410572\n",
      "Train Epoch: 2 [52480/60000 (87%)]\tLoss: 0.299865\n",
      "Train Epoch: 2 [53120/60000 (88%)]\tLoss: 0.250141\n",
      "Train Epoch: 2 [53760/60000 (90%)]\tLoss: 0.386431\n",
      "Train Epoch: 2 [54400/60000 (91%)]\tLoss: 0.403062\n",
      "Train Epoch: 2 [55040/60000 (92%)]\tLoss: 0.510038\n",
      "Train Epoch: 2 [55680/60000 (93%)]\tLoss: 0.242105\n",
      "Train Epoch: 2 [56320/60000 (94%)]\tLoss: 0.397923\n",
      "Train Epoch: 2 [56960/60000 (95%)]\tLoss: 0.244613\n",
      "Train Epoch: 2 [57600/60000 (96%)]\tLoss: 0.337924\n",
      "Train Epoch: 2 [58240/60000 (97%)]\tLoss: 0.387966\n",
      "Train Epoch: 2 [58880/60000 (98%)]\tLoss: 0.401275\n",
      "Train Epoch: 2 [59520/60000 (99%)]\tLoss: 0.313591\n",
      "Train Epoch: 3 [0/60000 (0%)]\tLoss: 0.177117\n",
      "Train Epoch: 3 [640/60000 (1%)]\tLoss: 0.381028\n",
      "Train Epoch: 3 [1280/60000 (2%)]\tLoss: 0.334155\n",
      "Train Epoch: 3 [1920/60000 (3%)]\tLoss: 0.242258\n",
      "Train Epoch: 3 [2560/60000 (4%)]\tLoss: 0.337344\n",
      "Train Epoch: 3 [3200/60000 (5%)]\tLoss: 0.404635\n",
      "Train Epoch: 3 [3840/60000 (6%)]\tLoss: 0.374337\n",
      "Train Epoch: 3 [4480/60000 (7%)]\tLoss: 0.280038\n",
      "Train Epoch: 3 [5120/60000 (9%)]\tLoss: 0.544000\n",
      "Train Epoch: 3 [5760/60000 (10%)]\tLoss: 0.286123\n",
      "Train Epoch: 3 [6400/60000 (11%)]\tLoss: 0.334337\n",
      "Train Epoch: 3 [7040/60000 (12%)]\tLoss: 0.468518\n",
      "Train Epoch: 3 [7680/60000 (13%)]\tLoss: 0.220594\n",
      "Train Epoch: 3 [8320/60000 (14%)]\tLoss: 0.173953\n",
      "Train Epoch: 3 [8960/60000 (15%)]\tLoss: 0.262006\n",
      "Train Epoch: 3 [9600/60000 (16%)]\tLoss: 0.305321\n",
      "Train Epoch: 3 [10240/60000 (17%)]\tLoss: 0.090556\n",
      "Train Epoch: 3 [10880/60000 (18%)]\tLoss: 0.322773\n",
      "Train Epoch: 3 [11520/60000 (19%)]\tLoss: 0.253170\n",
      "Train Epoch: 3 [12160/60000 (20%)]\tLoss: 0.293767\n",
      "Train Epoch: 3 [12800/60000 (21%)]\tLoss: 0.412235\n",
      "Train Epoch: 3 [13440/60000 (22%)]\tLoss: 0.314499\n",
      "Train Epoch: 3 [14080/60000 (23%)]\tLoss: 0.344508\n",
      "Train Epoch: 3 [14720/60000 (25%)]\tLoss: 0.380515\n",
      "Train Epoch: 3 [15360/60000 (26%)]\tLoss: 0.222188\n",
      "Train Epoch: 3 [16000/60000 (27%)]\tLoss: 0.213220\n",
      "Train Epoch: 3 [16640/60000 (28%)]\tLoss: 0.171565\n",
      "Train Epoch: 3 [17280/60000 (29%)]\tLoss: 0.423541\n",
      "Train Epoch: 3 [17920/60000 (30%)]\tLoss: 0.277414\n",
      "Train Epoch: 3 [18560/60000 (31%)]\tLoss: 0.311721\n",
      "Train Epoch: 3 [19200/60000 (32%)]\tLoss: 0.349743\n",
      "Train Epoch: 3 [19840/60000 (33%)]\tLoss: 0.407501\n",
      "Train Epoch: 3 [20480/60000 (34%)]\tLoss: 0.139590\n",
      "Train Epoch: 3 [21120/60000 (35%)]\tLoss: 0.393059\n",
      "Train Epoch: 3 [21760/60000 (36%)]\tLoss: 0.212441\n",
      "Train Epoch: 3 [22400/60000 (37%)]\tLoss: 0.378816\n",
      "Train Epoch: 3 [23040/60000 (38%)]\tLoss: 0.215184\n",
      "Train Epoch: 3 [23680/60000 (39%)]\tLoss: 0.258870\n",
      "Train Epoch: 3 [24320/60000 (41%)]\tLoss: 0.214262\n",
      "Train Epoch: 3 [24960/60000 (42%)]\tLoss: 0.212780\n",
      "Train Epoch: 3 [25600/60000 (43%)]\tLoss: 0.238954\n",
      "Train Epoch: 3 [26240/60000 (44%)]\tLoss: 0.344444\n",
      "Train Epoch: 3 [26880/60000 (45%)]\tLoss: 0.222565\n",
      "Train Epoch: 3 [27520/60000 (46%)]\tLoss: 0.341032\n",
      "Train Epoch: 3 [28160/60000 (47%)]\tLoss: 0.346721\n",
      "Train Epoch: 3 [28800/60000 (48%)]\tLoss: 0.425353\n",
      "Train Epoch: 3 [29440/60000 (49%)]\tLoss: 0.157567\n",
      "Train Epoch: 3 [30080/60000 (50%)]\tLoss: 0.440054\n",
      "Train Epoch: 3 [30720/60000 (51%)]\tLoss: 0.220830\n",
      "Train Epoch: 3 [31360/60000 (52%)]\tLoss: 0.457843\n",
      "Train Epoch: 3 [32000/60000 (53%)]\tLoss: 0.211413\n",
      "Train Epoch: 3 [32640/60000 (54%)]\tLoss: 0.146643\n",
      "Train Epoch: 3 [33280/60000 (55%)]\tLoss: 0.226973\n",
      "Train Epoch: 3 [33920/60000 (57%)]\tLoss: 0.148567\n",
      "Train Epoch: 3 [34560/60000 (58%)]\tLoss: 0.250565\n",
      "Train Epoch: 3 [35200/60000 (59%)]\tLoss: 0.227486\n",
      "Train Epoch: 3 [35840/60000 (60%)]\tLoss: 0.170653\n",
      "Train Epoch: 3 [36480/60000 (61%)]\tLoss: 0.186668\n",
      "Train Epoch: 3 [37120/60000 (62%)]\tLoss: 0.289803\n",
      "Train Epoch: 3 [37760/60000 (63%)]\tLoss: 0.334195\n",
      "Train Epoch: 3 [38400/60000 (64%)]\tLoss: 0.201638\n",
      "Train Epoch: 3 [39040/60000 (65%)]\tLoss: 0.259526\n",
      "Train Epoch: 3 [39680/60000 (66%)]\tLoss: 0.094840\n",
      "Train Epoch: 3 [40320/60000 (67%)]\tLoss: 0.280225\n",
      "Train Epoch: 3 [40960/60000 (68%)]\tLoss: 0.303243\n",
      "Train Epoch: 3 [41600/60000 (69%)]\tLoss: 0.416834\n",
      "Train Epoch: 3 [42240/60000 (70%)]\tLoss: 0.472358\n",
      "Train Epoch: 3 [42880/60000 (71%)]\tLoss: 0.156330\n",
      "Train Epoch: 3 [43520/60000 (72%)]\tLoss: 0.435638\n",
      "Train Epoch: 3 [44160/60000 (74%)]\tLoss: 0.233901\n",
      "Train Epoch: 3 [44800/60000 (75%)]\tLoss: 0.265498\n",
      "Train Epoch: 3 [45440/60000 (76%)]\tLoss: 0.257522\n",
      "Train Epoch: 3 [46080/60000 (77%)]\tLoss: 0.159087\n",
      "Train Epoch: 3 [46720/60000 (78%)]\tLoss: 0.344247\n",
      "Train Epoch: 3 [47360/60000 (79%)]\tLoss: 0.361736\n",
      "Train Epoch: 3 [48000/60000 (80%)]\tLoss: 0.280541\n",
      "Train Epoch: 3 [48640/60000 (81%)]\tLoss: 0.255488\n",
      "Train Epoch: 3 [49280/60000 (82%)]\tLoss: 0.320504\n",
      "Train Epoch: 3 [49920/60000 (83%)]\tLoss: 0.377488\n",
      "Train Epoch: 3 [50560/60000 (84%)]\tLoss: 0.290197\n",
      "Train Epoch: 3 [51200/60000 (85%)]\tLoss: 0.248089\n",
      "Train Epoch: 3 [51840/60000 (86%)]\tLoss: 0.227173\n",
      "Train Epoch: 3 [52480/60000 (87%)]\tLoss: 0.240711\n",
      "Train Epoch: 3 [53120/60000 (88%)]\tLoss: 0.375087\n",
      "Train Epoch: 3 [53760/60000 (90%)]\tLoss: 0.106092\n",
      "Train Epoch: 3 [54400/60000 (91%)]\tLoss: 0.107601\n",
      "Train Epoch: 3 [55040/60000 (92%)]\tLoss: 0.405702\n",
      "Train Epoch: 3 [55680/60000 (93%)]\tLoss: 0.273008\n",
      "Train Epoch: 3 [56320/60000 (94%)]\tLoss: 0.362490\n",
      "Train Epoch: 3 [56960/60000 (95%)]\tLoss: 0.317534\n",
      "Train Epoch: 3 [57600/60000 (96%)]\tLoss: 0.412238\n",
      "Train Epoch: 3 [58240/60000 (97%)]\tLoss: 0.169453\n",
      "Train Epoch: 3 [58880/60000 (98%)]\tLoss: 0.097354\n",
      "Train Epoch: 3 [59520/60000 (99%)]\tLoss: 0.223077\n"
     ]
    }
   ],
   "source": [
    "for epoch in range(1,n_epochs+1):\n",
    "    train(epoch)"
   ]
  },
  {
   "cell_type": "code",
   "execution_count": 91,
   "id": "c14c638b",
   "metadata": {},
   "outputs": [
    {
     "data": {
      "image/png": "[encoded data removed]",
      "text/plain": [
       "<Figure size 432x288 with 1 Axes>"
      ]
     },
     "execution_count": 91,
     "metadata": {},
     "output_type": "execute_result"
    },
    {
     "data": {
      "image/png": "[encoded data removed]",
      "text/plain": [
       "<Figure size 432x288 with 1 Axes>"
      ]
     },
     "metadata": {
      "needs_background": "light"
     },
     "output_type": "display_data"
    }
   ],
   "source": [
    "fig = plt.figure()\n",
    "plt.plot(train_counter, color='blue')\n",
    "plt.legend(['Train Loss'])\n",
    "plt.xlabel('number of training examples seen')\n",
    "plt.ylabel('negative log likelihood loss')\n",
    "fig"
   ]
  },
  {
   "cell_type": "code",
   "execution_count": 84,
   "id": "bde7ed42",
   "metadata": {},
   "outputs": [],
   "source": [
    "ex = ExtractDataset('data/test.csv')\n",
    "test_loader = torch.utils.data.DataLoader(ex,batch_size = 64,shuffle=True)"
   ]
  },
  {
   "cell_type": "code",
   "execution_count": 68,
   "id": "e25551ad",
   "metadata": {},
   "outputs": [
    {
     "name": "stdout",
     "output_type": "stream",
     "text": [
      "batch_idx, (example_data, example_targets) = next(examples)\n",
      "torch.Size([64, 783])\n"
     ]
    }
   ],
   "source": [
    "examples = enumerate(test_loader)\n",
    "print(\"batch_idx, (example_data, example_targets) = next(examples)\")\n",
    "print(next(examples)[1][0].shape)\n"
   ]
  },
  {
   "cell_type": "code",
   "execution_count": 69,
   "id": "7050344f",
   "metadata": {},
   "outputs": [],
   "source": [
    "import pandas as pd\n",
    "test_data =pd.read_csv(\"data/test.csv\")"
   ]
  },
  {
   "cell_type": "code",
   "execution_count": 92,
   "id": "851aa98a",
   "metadata": {},
   "outputs": [],
   "source": [
    "test_data_1 = test_data.iloc[0,:].values.reshape(1,784)"
   ]
  },
  {
   "cell_type": "code",
   "execution_count": 154,
   "id": "5a25790b",
   "metadata": {},
   "outputs": [
    {
     "ename": "NameError",
     "evalue": "name 'test_data_1' is not defined",
     "output_type": "error",
     "traceback": [
      "\u001b[1;31m---------------------------------------------------------------------------\u001b[0m",
      "\u001b[1;31mNameError\u001b[0m                                 Traceback (most recent call last)",
      "\u001b[1;32m~\\AppData\\Local\\Temp\\ipykernel_21596\\142946595.py\u001b[0m in \u001b[0;36m<module>\u001b[1;34m\u001b[0m\n\u001b[1;32m----> 1\u001b[1;33m \u001b[0mdata\u001b[0m\u001b[1;33m=\u001b[0m\u001b[0mtorch\u001b[0m\u001b[1;33m.\u001b[0m\u001b[0mfrom_numpy\u001b[0m\u001b[1;33m(\u001b[0m\u001b[0mtest_data_1\u001b[0m\u001b[1;33m)\u001b[0m\u001b[1;33m\u001b[0m\u001b[1;33m\u001b[0m\u001b[0m\n\u001b[0m\u001b[0;32m      2\u001b[0m \u001b[0mdata\u001b[0m \u001b[1;33m=\u001b[0m \u001b[0mdata\u001b[0m\u001b[1;33m.\u001b[0m\u001b[0mtype\u001b[0m\u001b[1;33m(\u001b[0m\u001b[0mtorch\u001b[0m\u001b[1;33m.\u001b[0m\u001b[0mfloat64\u001b[0m\u001b[1;33m)\u001b[0m\u001b[1;33m\u001b[0m\u001b[1;33m\u001b[0m\u001b[0m\n\u001b[0;32m      3\u001b[0m \u001b[1;31m# test_loader = torch.utils.data.DataLoader(data,batch_size = 64,shuffle=True)\u001b[0m\u001b[1;33m\u001b[0m\u001b[1;33m\u001b[0m\u001b[0m\n",
      "\u001b[1;31mNameError\u001b[0m: name 'test_data_1' is not defined"
     ]
    }
   ],
   "source": [
    "data=torch.from_numpy(test_data_1)\n",
    "data = data.type(torch.float64)\n",
    "# test_loader = torch.utils.data.DataLoader(data,batch_size = 64,shuffle=True)"
   ]
  },
  {
   "cell_type": "code",
   "execution_count": 90,
   "id": "37d31231",
   "metadata": {},
   "outputs": [
    {
     "name": "stdout",
     "output_type": "stream",
     "text": [
      "torch.Size([64])\n"
     ]
    }
   ],
   "source": [
    "data = enumerate(test_loader)\n",
    "print(next(data)[1].shape) "
   ]
  },
  {
   "cell_type": "code",
   "execution_count": 94,
   "id": "00c0a951",
   "metadata": {},
   "outputs": [],
   "source": [
    "with torch.no_grad():\n",
    "    output= model(data)"
   ]
  },
  {
   "cell_type": "code",
   "execution_count": 95,
   "id": "3d429c0f",
   "metadata": {},
   "outputs": [
    {
     "data": {
      "text/plain": [
       "tensor([[nan, nan, nan, nan, nan, nan, nan, nan, nan, nan]])"
      ]
     },
     "execution_count": 95,
     "metadata": {},
     "output_type": "execute_result"
    }
   ],
   "source": [
    "output"
   ]
  },
  {
   "cell_type": "code",
   "execution_count": 93,
   "id": "8af66b30",
   "metadata": {},
   "outputs": [],
   "source": [
    "import pickle\n",
    "with open(\"model.pkl\",\"wb\") as f:\n",
    "    pickle.dump(model,f)"
   ]
  },
  {
   "cell_type": "code",
   "execution_count": 126,
   "id": "e4c9333b",
   "metadata": {},
   "outputs": [],
   "source": [
    "import matplotlib.pyplot as plt\n",
    "import cv2\n",
    "\n",
    "arr = cv2.imread('image.png',cv2.IMREAD_UNCHANGED)"
   ]
  },
  {
   "cell_type": "code",
   "execution_count": 127,
   "id": "84670d46",
   "metadata": {},
   "outputs": [
    {
     "data": {
      "text/plain": [
       "(400, 400)"
      ]
     },
     "execution_count": 127,
     "metadata": {},
     "output_type": "execute_result"
    }
   ],
   "source": [
    "arr.shape"
   ]
  },
  {
   "cell_type": "code",
   "execution_count": 152,
   "id": "b9ec4b69",
   "metadata": {},
   "outputs": [],
   "source": [
    "resized_image = cv2.resize(arr, (28, 28),interpolation=cv2.INTER_LINEAR)/255.0\n",
    "# resized_image = resized_image.astype(\"float64\")\n",
    "data = torch.from_numpy(resized_image)\n",
    "data.type('torch.DoubleTensor')\n",
    "# data.to(torch.float32)"
   ]
  },
  {
   "cell_type": "code",
   "execution_count": 132,
   "id": "5ddfbccb",
   "metadata": {},
   "outputs": [
    {
     "data": {
      "text/plain": [
       "(28, 28)"
      ]
     },
     "execution_count": 132,
     "metadata": {},
     "output_type": "execute_result"
    }
   ],
   "source": [
    "stretch_near.shape"
   ]
  },
  {
   "cell_type": "code",
   "execution_count": 133,
   "id": "5bbf4a23",
   "metadata": {},
   "outputs": [
    {
     "data": {
      "text/plain": [
       "<matplotlib.image.AxesImage at 0x239e47e9360>"
      ]
     },
     "execution_count": 133,
     "metadata": {},
     "output_type": "execute_result"
    },
    {
     "data": {
      "image/png": "[encoded data removed]",
      "text/plain": [
       "<Figure size 432x288 with 1 Axes>"
      ]
     },
     "metadata": {
      "needs_background": "light"
     },
     "output_type": "display_data"
    }
   ],
   "source": [
    "plt.imshow(stretch_near,cmap=\"gray\")"
   ]
  },
  {
   "cell_type": "code",
   "execution_count": 147,
   "id": "4aa86b4a",
   "metadata": {},
   "outputs": [
    {
     "data": {
      "text/plain": [
       "tensor([[0.0000, 0.0000, 0.0000, 0.0000, 0.0000, 0.0000, 0.0000, 0.0000, 0.0000,\n",
       "         0.0000, 0.0000, 0.0000, 0.0000, 0.0000, 0.0000, 0.0000, 0.0000, 0.0000,\n",
       "         0.0000, 0.0000, 0.0000, 0.0000, 0.0000, 0.0000, 0.0000, 0.0000, 0.0000,\n",
       "         0.0000],\n",
       "        [0.0000, 0.0000, 0.0000, 0.0000, 0.0000, 0.0000, 0.0000, 0.0000, 0.0000,\n",
       "         0.0000, 0.0000, 0.0000, 0.0000, 0.0000, 0.0000, 0.0000, 0.0000, 0.0000,\n",
       "         0.0000, 0.0000, 0.0000, 0.0000, 0.0000, 0.0000, 0.0000, 0.0000, 0.0000,\n",
       "         0.0000],\n",
       "        [0.0000, 0.0000, 0.0000, 0.0000, 0.0000, 0.0000, 0.0000, 0.0000, 0.0000,\n",
       "         0.0000, 0.0000, 0.0000, 0.0000, 0.0000, 0.0000, 0.0000, 0.0000, 0.0000,\n",
       "         0.0000, 0.0000, 0.0000, 0.0000, 0.0000, 0.0000, 0.0000, 0.0000, 0.0000,\n",
       "         0.0000],\n",
       "        [0.0000, 0.0000, 0.0000, 0.0000, 0.0000, 0.0000, 0.0000, 0.0000, 0.0000,\n",
       "         0.0000, 0.0000, 0.0000, 0.0000, 0.0000, 0.0000, 0.0000, 0.0000, 0.0000,\n",
       "         0.0000, 0.0000, 0.0000, 0.0000, 0.0000, 0.0000, 0.0000, 0.0000, 0.0000,\n",
       "         0.0000],\n",
       "        [0.0000, 0.0000, 0.0000, 0.0000, 0.0000, 0.0000, 0.0000, 0.0000, 0.0000,\n",
       "         0.0000, 0.0000, 0.0000, 0.0000, 1.0000, 1.0000, 0.0000, 0.0000, 1.0000,\n",
       "         1.0000, 0.0000, 0.0000, 0.0000, 0.0000, 0.0000, 0.0000, 0.0000, 0.0000,\n",
       "         0.0000],\n",
       "        [0.0000, 0.0000, 0.0000, 0.0000, 0.0000, 0.0000, 0.0000, 0.0000, 0.0000,\n",
       "         0.0000, 0.0000, 1.0000, 0.0000, 0.0000, 0.0000, 0.0000, 0.0000, 0.0000,\n",
       "         0.0000, 0.0000, 1.0000, 0.0000, 0.0000, 0.0000, 0.0000, 0.0000, 0.0000,\n",
       "         0.0000],\n",
       "        [0.0000, 0.0000, 0.0000, 0.0000, 0.0000, 0.0000, 0.0000, 0.0000, 0.0000,\n",
       "         0.0000, 1.0000, 0.0000, 0.0000, 0.0000, 0.0000, 0.0000, 0.0000, 0.0000,\n",
       "         0.0000, 0.0000, 0.0000, 0.0000, 0.0000, 0.0000, 0.0000, 0.0000, 0.0000,\n",
       "         0.0000],\n",
       "        [0.0000, 0.0000, 0.0000, 0.0000, 0.0000, 0.0000, 0.0000, 0.0000, 0.0000,\n",
       "         1.0000, 0.0000, 0.0000, 0.0000, 0.0000, 0.0000, 0.0000, 0.0000, 0.0000,\n",
       "         0.0000, 0.0000, 0.0000, 1.0000, 0.0000, 0.0000, 0.0000, 0.0000, 0.0000,\n",
       "         0.0000],\n",
       "        [0.0000, 0.0000, 0.0000, 0.0000, 0.0000, 0.0000, 0.0000, 0.0000, 0.0000,\n",
       "         0.0000, 0.0000, 0.0000, 0.0000, 0.0000, 0.0000, 0.0000, 0.0000, 0.0000,\n",
       "         0.0000, 0.0000, 0.0000, 0.6431, 0.0000, 0.0000, 0.0000, 0.0000, 0.0000,\n",
       "         0.0000],\n",
       "        [0.0000, 0.0000, 0.0000, 0.0000, 0.0000, 0.0000, 0.0000, 0.0000, 0.0000,\n",
       "         0.0000, 0.0000, 0.0000, 0.0000, 0.0000, 0.0000, 0.0000, 0.0000, 0.0000,\n",
       "         0.0000, 0.0000, 0.0000, 0.0000, 1.0000, 0.0000, 0.0000, 0.0000, 0.0000,\n",
       "         0.0000],\n",
       "        [0.0000, 0.0000, 0.0000, 0.0000, 0.0000, 0.0000, 0.0000, 0.0000, 0.0000,\n",
       "         0.0000, 0.0000, 0.0000, 0.0000, 0.0000, 0.0000, 0.0000, 0.0000, 0.0000,\n",
       "         0.0000, 0.0000, 0.0000, 0.0000, 1.0000, 0.0000, 0.0000, 0.0000, 0.0000,\n",
       "         0.0000],\n",
       "        [0.0000, 0.0000, 0.0000, 0.0000, 0.0000, 0.0000, 0.0000, 0.0000, 0.0000,\n",
       "         0.0000, 0.0000, 0.0000, 0.0000, 0.0000, 0.0000, 0.0000, 0.0000, 0.0000,\n",
       "         0.0000, 0.0000, 0.0000, 0.0000, 0.0000, 0.0000, 0.0000, 0.0000, 0.0000,\n",
       "         0.0000],\n",
       "        [0.0000, 0.0000, 0.0000, 0.0000, 0.0000, 0.0000, 0.0000, 0.0000, 0.0000,\n",
       "         0.0000, 0.0000, 0.0000, 0.0000, 0.0000, 0.0000, 0.0000, 0.0000, 0.0000,\n",
       "         0.0000, 0.0000, 0.0000, 0.0000, 0.9294, 0.0000, 0.0000, 0.0000, 0.0000,\n",
       "         0.0000],\n",
       "        [0.0000, 0.0000, 0.0000, 0.0000, 0.0000, 0.0000, 0.0000, 0.0000, 0.0000,\n",
       "         0.0000, 0.0000, 0.0000, 0.0000, 0.0000, 0.0000, 0.0000, 0.0000, 0.0000,\n",
       "         0.0000, 0.0000, 0.0000, 0.0000, 0.9294, 0.0000, 0.0000, 0.0000, 0.0000,\n",
       "         0.0000],\n",
       "        [0.0000, 0.0000, 0.0000, 0.0000, 0.0000, 0.0000, 0.0000, 0.0000, 0.0000,\n",
       "         0.0000, 0.0000, 0.0000, 0.0000, 0.0000, 0.0000, 0.0000, 0.0000, 0.0000,\n",
       "         0.0000, 0.0000, 0.0000, 0.0000, 1.0000, 0.0000, 0.0000, 0.0000, 0.0000,\n",
       "         0.0000],\n",
       "        [0.0000, 0.0000, 0.0000, 0.0000, 0.0000, 0.0000, 0.0000, 0.0000, 0.0000,\n",
       "         0.0000, 0.0000, 0.0000, 0.0000, 0.0000, 0.0000, 0.0000, 0.0000, 0.0000,\n",
       "         0.0000, 0.0000, 0.0000, 0.0000, 1.0000, 0.0000, 0.0000, 0.0000, 0.0000,\n",
       "         0.0000],\n",
       "        [0.0000, 0.0000, 0.0000, 0.0000, 0.0000, 0.0000, 0.0000, 0.0000, 0.0000,\n",
       "         0.0000, 0.0000, 0.0000, 0.0000, 0.0000, 0.0000, 0.0000, 0.0000, 0.0000,\n",
       "         0.0000, 0.0000, 0.0000, 0.0000, 0.0000, 0.0000, 0.0000, 0.0000, 0.0000,\n",
       "         0.0000],\n",
       "        [0.0000, 0.0000, 0.0000, 0.0000, 0.0000, 0.0000, 0.0000, 0.0000, 0.0000,\n",
       "         1.0000, 1.0000, 0.1059, 0.0000, 0.0000, 0.0000, 0.0000, 0.0000, 0.0000,\n",
       "         0.0000, 0.0000, 0.1804, 1.0000, 0.0000, 0.0000, 0.0000, 0.0000, 0.0000,\n",
       "         0.0000],\n",
       "        [0.0000, 0.0000, 0.0000, 0.0000, 0.0000, 0.0000, 0.0000, 0.0000, 0.0000,\n",
       "         1.0000, 0.0000, 0.0000, 1.0000, 0.0000, 0.0000, 0.0000, 0.0000, 0.0000,\n",
       "         0.0000, 1.0000, 0.0000, 0.0000, 0.0000, 0.0000, 0.0000, 0.0000, 0.0000,\n",
       "         0.0000],\n",
       "        [0.0000, 0.0000, 0.0000, 0.0000, 0.0000, 0.0000, 0.0000, 0.0000, 0.0000,\n",
       "         1.0000, 0.0000, 0.0000, 0.0000, 1.0000, 0.0000, 0.0000, 0.0000, 0.0000,\n",
       "         1.0000, 0.0000, 0.0000, 0.0000, 0.0000, 0.0000, 0.0000, 0.0000, 0.0000,\n",
       "         0.0000],\n",
       "        [0.0000, 0.0000, 0.0000, 0.0000, 0.0000, 0.0000, 0.0000, 0.0000, 0.0000,\n",
       "         0.7176, 0.0000, 0.0000, 0.0000, 0.0000, 0.8706, 0.4039, 1.0000, 0.0000,\n",
       "         0.0000, 0.0000, 0.0000, 0.0000, 0.0000, 0.0000, 0.0000, 0.0000, 0.0000,\n",
       "         0.0000],\n",
       "        [0.0000, 0.0000, 0.0000, 0.0000, 0.0000, 0.0000, 0.0000, 0.0000, 0.0000,\n",
       "         0.0000, 1.0000, 0.0000, 0.0000, 0.0000, 1.0000, 0.3569, 1.0000, 0.0000,\n",
       "         0.0000, 0.0000, 0.0000, 0.0000, 0.0000, 0.0000, 0.0000, 0.0000, 0.0000,\n",
       "         0.0000],\n",
       "        [0.0000, 0.0000, 0.0000, 0.0000, 0.0000, 0.0000, 0.0000, 0.0000, 0.0000,\n",
       "         0.0000, 0.0000, 0.0706, 0.0706, 0.0000, 0.0000, 0.0000, 0.0000, 1.0000,\n",
       "         0.0000, 0.0000, 0.0000, 0.0000, 0.0000, 0.0000, 0.0000, 0.0000, 0.0000,\n",
       "         0.0000],\n",
       "        [0.0000, 0.0000, 0.0000, 0.0000, 0.0000, 0.0000, 0.0000, 0.0000, 0.0000,\n",
       "         0.0000, 0.0000, 0.0000, 0.0000, 0.0000, 0.0000, 0.0000, 0.0000, 0.0000,\n",
       "         0.6157, 1.0000, 0.0000, 0.0000, 0.0000, 0.0000, 0.0000, 0.0000, 0.0000,\n",
       "         0.0000],\n",
       "        [0.0000, 0.0000, 0.0000, 0.0000, 0.0000, 0.0000, 0.0000, 0.0000, 0.0000,\n",
       "         0.0000, 0.0000, 0.0000, 0.0000, 0.0000, 0.0000, 0.0000, 0.0000, 0.0000,\n",
       "         0.0000, 0.0000, 0.0000, 0.0000, 0.0000, 0.0000, 0.0000, 0.0000, 0.0000,\n",
       "         0.0000],\n",
       "        [0.0000, 0.0000, 0.0000, 0.0000, 0.0000, 0.0000, 0.0000, 0.0000, 0.0000,\n",
       "         0.0000, 0.0000, 0.0000, 0.0000, 0.0000, 0.0000, 0.0000, 0.0000, 0.0000,\n",
       "         0.0000, 0.0000, 0.0000, 0.0000, 0.0000, 0.0000, 0.0000, 0.0000, 0.0000,\n",
       "         0.0000],\n",
       "        [0.0000, 0.0000, 0.0000, 0.0000, 0.0000, 0.0000, 0.0000, 0.0000, 0.0000,\n",
       "         0.0000, 0.0000, 0.0000, 0.0000, 0.0000, 0.0000, 0.0000, 0.0000, 0.0000,\n",
       "         0.0000, 0.0000, 0.0000, 0.0000, 0.0000, 0.0000, 0.0000, 0.0000, 0.0000,\n",
       "         0.0000],\n",
       "        [0.0000, 0.0000, 0.0000, 0.0000, 0.0000, 0.0000, 0.0000, 0.0000, 0.0000,\n",
       "         0.0000, 0.0000, 0.0000, 0.0000, 0.0000, 0.0000, 0.0000, 0.0000, 0.0000,\n",
       "         0.0000, 0.0000, 0.0000, 0.0000, 0.0000, 0.0000, 0.0000, 0.0000, 0.0000,\n",
       "         0.0000]], dtype=torch.float64)"
      ]
     },
     "execution_count": 147,
     "metadata": {},
     "output_type": "execute_result"
    }
   ],
   "source": [
    "data"
   ]
  },
  {
   "cell_type": "code",
   "execution_count": 153,
   "id": "28e8503b",
   "metadata": {},
   "outputs": [
    {
     "ename": "RuntimeError",
     "evalue": "Input type (double) and bias type (float) should be the same",
     "output_type": "error",
     "traceback": [
      "\u001b[1;31m---------------------------------------------------------------------------\u001b[0m",
      "\u001b[1;31mRuntimeError\u001b[0m                              Traceback (most recent call last)",
      "\u001b[1;32m~\\AppData\\Local\\Temp\\ipykernel_21596\\958051570.py\u001b[0m in \u001b[0;36m<module>\u001b[1;34m\u001b[0m\n\u001b[0;32m      1\u001b[0m \u001b[1;32mwith\u001b[0m \u001b[0mtorch\u001b[0m\u001b[1;33m.\u001b[0m\u001b[0mno_grad\u001b[0m\u001b[1;33m(\u001b[0m\u001b[1;33m)\u001b[0m\u001b[1;33m:\u001b[0m\u001b[1;33m\u001b[0m\u001b[1;33m\u001b[0m\u001b[0m\n\u001b[1;32m----> 2\u001b[1;33m     \u001b[0moutput\u001b[0m \u001b[1;33m=\u001b[0m \u001b[0mmodel\u001b[0m\u001b[1;33m(\u001b[0m\u001b[0mdata\u001b[0m\u001b[1;33m)\u001b[0m\u001b[1;33m\u001b[0m\u001b[1;33m\u001b[0m\u001b[0m\n\u001b[0m",
      "\u001b[1;32mc:\\Users\\surya\\AppData\\Local\\Programs\\Python\\Python310\\lib\\site-packages\\torch\\nn\\modules\\module.py\u001b[0m in \u001b[0;36m_call_impl\u001b[1;34m(self, *args, **kwargs)\u001b[0m\n\u001b[0;32m   1499\u001b[0m                 \u001b[1;32mor\u001b[0m \u001b[0m_global_backward_pre_hooks\u001b[0m \u001b[1;32mor\u001b[0m \u001b[0m_global_backward_hooks\u001b[0m\u001b[1;33m\u001b[0m\u001b[1;33m\u001b[0m\u001b[0m\n\u001b[0;32m   1500\u001b[0m                 or _global_forward_hooks or _global_forward_pre_hooks):\n\u001b[1;32m-> 1501\u001b[1;33m             \u001b[1;32mreturn\u001b[0m \u001b[0mforward_call\u001b[0m\u001b[1;33m(\u001b[0m\u001b[1;33m*\u001b[0m\u001b[0margs\u001b[0m\u001b[1;33m,\u001b[0m \u001b[1;33m**\u001b[0m\u001b[0mkwargs\u001b[0m\u001b[1;33m)\u001b[0m\u001b[1;33m\u001b[0m\u001b[1;33m\u001b[0m\u001b[0m\n\u001b[0m\u001b[0;32m   1502\u001b[0m         \u001b[1;31m# Do not call functions when jit is used\u001b[0m\u001b[1;33m\u001b[0m\u001b[1;33m\u001b[0m\u001b[0m\n\u001b[0;32m   1503\u001b[0m         \u001b[0mfull_backward_hooks\u001b[0m\u001b[1;33m,\u001b[0m \u001b[0mnon_full_backward_hooks\u001b[0m \u001b[1;33m=\u001b[0m \u001b[1;33m[\u001b[0m\u001b[1;33m]\u001b[0m\u001b[1;33m,\u001b[0m \u001b[1;33m[\u001b[0m\u001b[1;33m]\u001b[0m\u001b[1;33m\u001b[0m\u001b[1;33m\u001b[0m\u001b[0m\n",
      "\u001b[1;32m~\\AppData\\Local\\Temp\\ipykernel_21596\\161431047.py\u001b[0m in \u001b[0;36mforward\u001b[1;34m(self, x)\u001b[0m\n\u001b[0;32m      9\u001b[0m \u001b[1;33m\u001b[0m\u001b[0m\n\u001b[0;32m     10\u001b[0m     \u001b[1;32mdef\u001b[0m \u001b[0mforward\u001b[0m\u001b[1;33m(\u001b[0m\u001b[0mself\u001b[0m\u001b[1;33m,\u001b[0m \u001b[0mx\u001b[0m\u001b[1;33m)\u001b[0m\u001b[1;33m:\u001b[0m\u001b[1;33m\u001b[0m\u001b[1;33m\u001b[0m\u001b[0m\n\u001b[1;32m---> 11\u001b[1;33m         \u001b[0mx\u001b[0m \u001b[1;33m=\u001b[0m \u001b[0mF\u001b[0m\u001b[1;33m.\u001b[0m\u001b[0mrelu\u001b[0m\u001b[1;33m(\u001b[0m\u001b[0mF\u001b[0m\u001b[1;33m.\u001b[0m\u001b[0mmax_pool2d\u001b[0m\u001b[1;33m(\u001b[0m\u001b[0mself\u001b[0m\u001b[1;33m.\u001b[0m\u001b[0mconv1\u001b[0m\u001b[1;33m(\u001b[0m\u001b[0mx\u001b[0m\u001b[1;33m)\u001b[0m\u001b[1;33m,\u001b[0m \u001b[1;36m2\u001b[0m\u001b[1;33m)\u001b[0m\u001b[1;33m)\u001b[0m\u001b[1;33m\u001b[0m\u001b[1;33m\u001b[0m\u001b[0m\n\u001b[0m\u001b[0;32m     12\u001b[0m         \u001b[0mx\u001b[0m \u001b[1;33m=\u001b[0m \u001b[0mF\u001b[0m\u001b[1;33m.\u001b[0m\u001b[0mrelu\u001b[0m\u001b[1;33m(\u001b[0m\u001b[0mF\u001b[0m\u001b[1;33m.\u001b[0m\u001b[0mmax_pool2d\u001b[0m\u001b[1;33m(\u001b[0m\u001b[0mself\u001b[0m\u001b[1;33m.\u001b[0m\u001b[0mconv2_drop\u001b[0m\u001b[1;33m(\u001b[0m\u001b[0mself\u001b[0m\u001b[1;33m.\u001b[0m\u001b[0mconv2\u001b[0m\u001b[1;33m(\u001b[0m\u001b[0mx\u001b[0m\u001b[1;33m)\u001b[0m\u001b[1;33m)\u001b[0m\u001b[1;33m,\u001b[0m \u001b[1;36m2\u001b[0m\u001b[1;33m)\u001b[0m\u001b[1;33m)\u001b[0m\u001b[1;33m\u001b[0m\u001b[1;33m\u001b[0m\u001b[0m\n\u001b[0;32m     13\u001b[0m         \u001b[0mx\u001b[0m \u001b[1;33m=\u001b[0m \u001b[0mx\u001b[0m\u001b[1;33m.\u001b[0m\u001b[0mview\u001b[0m\u001b[1;33m(\u001b[0m\u001b[1;33m-\u001b[0m\u001b[1;36m1\u001b[0m\u001b[1;33m,\u001b[0m \u001b[1;36m320\u001b[0m\u001b[1;33m)\u001b[0m\u001b[1;33m\u001b[0m\u001b[1;33m\u001b[0m\u001b[0m\n",
      "\u001b[1;32mc:\\Users\\surya\\AppData\\Local\\Programs\\Python\\Python310\\lib\\site-packages\\torch\\nn\\modules\\module.py\u001b[0m in \u001b[0;36m_call_impl\u001b[1;34m(self, *args, **kwargs)\u001b[0m\n\u001b[0;32m   1499\u001b[0m                 \u001b[1;32mor\u001b[0m \u001b[0m_global_backward_pre_hooks\u001b[0m \u001b[1;32mor\u001b[0m \u001b[0m_global_backward_hooks\u001b[0m\u001b[1;33m\u001b[0m\u001b[1;33m\u001b[0m\u001b[0m\n\u001b[0;32m   1500\u001b[0m                 or _global_forward_hooks or _global_forward_pre_hooks):\n\u001b[1;32m-> 1501\u001b[1;33m             \u001b[1;32mreturn\u001b[0m \u001b[0mforward_call\u001b[0m\u001b[1;33m(\u001b[0m\u001b[1;33m*\u001b[0m\u001b[0margs\u001b[0m\u001b[1;33m,\u001b[0m \u001b[1;33m**\u001b[0m\u001b[0mkwargs\u001b[0m\u001b[1;33m)\u001b[0m\u001b[1;33m\u001b[0m\u001b[1;33m\u001b[0m\u001b[0m\n\u001b[0m\u001b[0;32m   1502\u001b[0m         \u001b[1;31m# Do not call functions when jit is used\u001b[0m\u001b[1;33m\u001b[0m\u001b[1;33m\u001b[0m\u001b[0m\n\u001b[0;32m   1503\u001b[0m         \u001b[0mfull_backward_hooks\u001b[0m\u001b[1;33m,\u001b[0m \u001b[0mnon_full_backward_hooks\u001b[0m \u001b[1;33m=\u001b[0m \u001b[1;33m[\u001b[0m\u001b[1;33m]\u001b[0m\u001b[1;33m,\u001b[0m \u001b[1;33m[\u001b[0m\u001b[1;33m]\u001b[0m\u001b[1;33m\u001b[0m\u001b[1;33m\u001b[0m\u001b[0m\n",
      "\u001b[1;32mc:\\Users\\surya\\AppData\\Local\\Programs\\Python\\Python310\\lib\\site-packages\\torch\\nn\\modules\\conv.py\u001b[0m in \u001b[0;36mforward\u001b[1;34m(self, input)\u001b[0m\n\u001b[0;32m    461\u001b[0m \u001b[1;33m\u001b[0m\u001b[0m\n\u001b[0;32m    462\u001b[0m     \u001b[1;32mdef\u001b[0m \u001b[0mforward\u001b[0m\u001b[1;33m(\u001b[0m\u001b[0mself\u001b[0m\u001b[1;33m,\u001b[0m \u001b[0minput\u001b[0m\u001b[1;33m:\u001b[0m \u001b[0mTensor\u001b[0m\u001b[1;33m)\u001b[0m \u001b[1;33m->\u001b[0m \u001b[0mTensor\u001b[0m\u001b[1;33m:\u001b[0m\u001b[1;33m\u001b[0m\u001b[1;33m\u001b[0m\u001b[0m\n\u001b[1;32m--> 463\u001b[1;33m         \u001b[1;32mreturn\u001b[0m \u001b[0mself\u001b[0m\u001b[1;33m.\u001b[0m\u001b[0m_conv_forward\u001b[0m\u001b[1;33m(\u001b[0m\u001b[0minput\u001b[0m\u001b[1;33m,\u001b[0m \u001b[0mself\u001b[0m\u001b[1;33m.\u001b[0m\u001b[0mweight\u001b[0m\u001b[1;33m,\u001b[0m \u001b[0mself\u001b[0m\u001b[1;33m.\u001b[0m\u001b[0mbias\u001b[0m\u001b[1;33m)\u001b[0m\u001b[1;33m\u001b[0m\u001b[1;33m\u001b[0m\u001b[0m\n\u001b[0m\u001b[0;32m    464\u001b[0m \u001b[1;33m\u001b[0m\u001b[0m\n\u001b[0;32m    465\u001b[0m \u001b[1;32mclass\u001b[0m \u001b[0mConv3d\u001b[0m\u001b[1;33m(\u001b[0m\u001b[0m_ConvNd\u001b[0m\u001b[1;33m)\u001b[0m\u001b[1;33m:\u001b[0m\u001b[1;33m\u001b[0m\u001b[1;33m\u001b[0m\u001b[0m\n",
      "\u001b[1;32mc:\\Users\\surya\\AppData\\Local\\Programs\\Python\\Python310\\lib\\site-packages\\torch\\nn\\modules\\conv.py\u001b[0m in \u001b[0;36m_conv_forward\u001b[1;34m(self, input, weight, bias)\u001b[0m\n\u001b[0;32m    457\u001b[0m                             \u001b[0mweight\u001b[0m\u001b[1;33m,\u001b[0m \u001b[0mbias\u001b[0m\u001b[1;33m,\u001b[0m \u001b[0mself\u001b[0m\u001b[1;33m.\u001b[0m\u001b[0mstride\u001b[0m\u001b[1;33m,\u001b[0m\u001b[1;33m\u001b[0m\u001b[1;33m\u001b[0m\u001b[0m\n\u001b[0;32m    458\u001b[0m                             _pair(0), self.dilation, self.groups)\n\u001b[1;32m--> 459\u001b[1;33m         return F.conv2d(input, weight, bias, self.stride,\n\u001b[0m\u001b[0;32m    460\u001b[0m                         self.padding, self.dilation, self.groups)\n\u001b[0;32m    461\u001b[0m \u001b[1;33m\u001b[0m\u001b[0m\n",
      "\u001b[1;31mRuntimeError\u001b[0m: Input type (double) and bias type (float) should be the same"
     ]
    }
   ],
   "source": [
    "with torch.no_grad():\n",
    "    output = model(data)"
   ]
  },
  {
   "cell_type": "code",
   "execution_count": 139,
   "id": "9106ec9b",
   "metadata": {},
   "outputs": [
    {
     "data": {
      "text/plain": [
       "torch.Size([28, 28])"
      ]
     },
     "execution_count": 139,
     "metadata": {},
     "output_type": "execute_result"
    }
   ],
   "source": [
    "data.shape"
   ]
  },
  {
   "cell_type": "code",
   "execution_count": null,
   "id": "3dc13ab8",
   "metadata": {},
   "outputs": [],
   "source": []
  }
 ],
 "metadata": {
  "kernelspec": {
   "display_name": "Python 3 (ipykernel)",
   "language": "python",
   "name": "python3"
  },
  "language_info": {
   "codemirror_mode": {
    "name": "ipython",
    "version": 3
   },
   "file_extension": ".py",
   "mimetype": "text/x-python",
   "name": "python",
   "nbconvert_exporter": "python",
   "pygments_lexer": "ipython3",
   "version": "3.10.0"
  }
 },
 "nbformat": 4,
 "nbformat_minor": 5
}
